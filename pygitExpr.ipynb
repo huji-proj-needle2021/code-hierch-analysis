{
 "cells": [
  {
   "cell_type": "code",
   "execution_count": 6,
   "metadata": {},
   "outputs": [
    {
     "name": "stdout",
     "output_type": "stream",
     "text": [
      "The autoreload extension is already loaded. To reload it, use:\n",
      "  %reload_ext autoreload\n"
     ]
    }
   ],
   "source": [
    "%load_ext autoreload\n",
    "%autoreload 2\n",
    "from git_analysis import CommitProcessor\n",
    "import pygit2\n",
    "import itertools\n",
    "from pygit2 import GIT_SORT_TOPOLOGICAL, GIT_SORT_REVERSE\n",
    "repo = pygit2.Repository(\"../jadx\")\n"
   ]
  },
  {
   "cell_type": "code",
   "execution_count": 8,
   "metadata": {},
   "outputs": [
    {
     "name": "stdout",
     "output_type": "stream",
     "text": [
      "visiting commit <pygit2.Object{commit:a27ba3ff4be70a1d46e9065151ef36850686dc39}> by Skylot \n"
     ]
    },
    {
     "name": "stderr",
     "output_type": "stream",
     "text": [
      "[autoreload of git_analysis.commit_processor failed: Traceback (most recent call last):\n",
      "  File \"c:\\dev\\gitAnalysis\\venv\\lib\\site-packages\\IPython\\extensions\\autoreload.py\", line 257, in check\n",
      "    superreload(m, reload, self.old_objects)\n",
      "  File \"c:\\dev\\gitAnalysis\\venv\\lib\\site-packages\\IPython\\extensions\\autoreload.py\", line 455, in superreload\n",
      "    module = reload(module)\n",
      "  File \"C:\\Users\\Danny\\scoop\\apps\\python\\current\\lib\\importlib\\__init__.py\", line 169, in reload\n",
      "    _bootstrap._exec(spec, module)\n",
      "  File \"<frozen importlib._bootstrap>\", line 619, in _exec\n",
      "  File \"<frozen importlib._bootstrap_external>\", line 883, in exec_module\n",
      "  File \"<frozen importlib._bootstrap>\", line 241, in _call_with_frames_removed\n",
      "  File \"c:\\dev\\gitAnalysis\\git_analysis\\commit_processor.py\", line 2, in <module>\n",
      "    from java_change_detector import JavaChangeDetector, JavaHierarchy\n",
      "ModuleNotFoundError: No module named 'java_change_detector'\n",
      "]\n"
     ]
    },
    {
     "data": {
      "text/plain": [
       "{'author': 'skylot@gmail.com',\n",
       " 'committer': 'skylot@gmail.com',\n",
       " 'message': \"fix(res): skip '.9.png' decode if patch data not found (#1112)\\n\",\n",
       " 'id': a27ba3ff4be70a1d46e9065151ef36850686dc39,\n",
       " 'patches': [{'from': 'jadx-core/src/main/java/jadx/api/ResourcesLoader.java',\n",
       "   'to': 'jadx-core/src/main/java/jadx/api/ResourcesLoader.java',\n",
       "   'status': 'M',\n",
       "   'hunks': [{'lines': [{'content': '\\t\\tif (name.endsWith(\".9.png\")) {\\n'},\n",
       "      {'content': '\\t\\t\\ttry (ByteArrayOutputStream os = new ByteArrayOutputStream()) {\\n'},\n",
       "      {'content': '\\t\\t\\t\\tRes9patchStreamDecoder decoder = new Res9patchStreamDecoder();\\n'},\n",
       "      {'content': '\\t\\t\\t\\tif (decoder.decode(inputStream, os)) {\\n'},\n",
       "      {'content': '\\t\\t\\t\\t\\treturn ResContainer.decodedData(rf.getDeobfName(), os.toByteArray());\\n'},\n",
       "      {'content': '\\t\\t\\t\\t}\\n'},\n",
       "      {'content': '\\t\\t\\t\\tdecoder.decode(inputStream, os);\\n'},\n",
       "      {'content': '\\t\\t\\t\\treturn ResContainer.decodedData(rf.getDeobfName(), os.toByteArray());\\n'},\n",
       "      {'content': '\\t\\t\\t} catch (Exception e) {\\n'},\n",
       "      {'content': '\\t\\t\\t\\tLOG.error(\"Failed to decode 9-patch png image, path: {}\", name, e);\\n'},\n",
       "      {'content': '\\t\\t\\t}\\n'}]}]},\n",
       "  {'from': 'jadx-core/src/main/java/jadx/core/utils/android/Res9patchStreamDecoder.java',\n",
       "   'to': 'jadx-core/src/main/java/jadx/core/utils/android/Res9patchStreamDecoder.java',\n",
       "   'status': 'M',\n",
       "   'hunks': [{'lines': [{'content': '\\n'},\n",
       "      {'content': 'import javax.imageio.ImageIO;\\n'},\n",
       "      {'content': '\\n'},\n",
       "      {'content': 'import org.jetbrains.annotations.Nullable;\\n'},\n",
       "      {'content': '\\n'},\n",
       "      {'content': 'import jadx.core.utils.exceptions.JadxRuntimeException;\\n'},\n",
       "      {'content': '\\n'},\n",
       "      {'content': '/**\\n'}]},\n",
       "    {'lines': [{'content': ' */\\n'},\n",
       "      {'content': 'public class Res9patchStreamDecoder {\\n'},\n",
       "      {'content': '\\n'},\n",
       "      {'content': '\\tpublic boolean decode(InputStream in, OutputStream out) {\\n'},\n",
       "      {'content': '\\tpublic void decode(InputStream in, OutputStream out) {\\n'},\n",
       "      {'content': '\\t\\ttry {\\n'},\n",
       "      {'content': '\\t\\t\\tBufferedImage im = ImageIO.read(in);\\n'},\n",
       "      {'content': '\\t\\t\\tNinePatch np = getNinePatch(in);\\n'},\n",
       "      {'content': '\\t\\t\\tif (np == null) {\\n'},\n",
       "      {'content': '\\t\\t\\t\\treturn false;\\n'},\n",
       "      {'content': '\\t\\t\\t}\\n'},\n",
       "      {'content': '\\t\\t\\tint w = im.getWidth();\\n'},\n",
       "      {'content': '\\t\\t\\tint h = im.getHeight();\\n'},\n",
       "      {'content': '\\n'},\n",
       "      {'content': '\\t\\t\\tBufferedImage im2 = new BufferedImage(w + 2, h + 2, BufferedImage.TYPE_INT_ARGB);\\n'},\n",
       "      {'content': '\\t\\t\\tim2.createGraphics().drawImage(im, 1, 1, w, h, null);\\n'},\n",
       "      {'content': '\\n'},\n",
       "      {'content': '\\t\\t\\tNinePatch np = getNinePatch(in);\\n'},\n",
       "      {'content': '\\t\\t\\tdrawHLine(im2, h + 1, np.padLeft + 1, w - np.padRight);\\n'},\n",
       "      {'content': '\\t\\t\\tdrawVLine(im2, w + 1, np.padTop + 1, h - np.padBottom);\\n'},\n",
       "      {'content': '\\n'}]},\n",
       "    {'lines': [{'content': '\\t\\t\\t}\\n'},\n",
       "      {'content': '\\n'},\n",
       "      {'content': '\\t\\t\\tImageIO.write(im2, \"png\", out);\\n'},\n",
       "      {'content': '\\t\\t\\treturn true;\\n'},\n",
       "      {'content': '\\t\\t} catch (Exception e) {\\n'},\n",
       "      {'content': '\\t\\t\\tthrow new JadxRuntimeException(\"9patch image decode error\", e);\\n'},\n",
       "      {'content': '\\t\\t}\\n'},\n",
       "      {'content': '\\t}\\n'},\n",
       "      {'content': '\\n'},\n",
       "      {'content': '\\t@Nullable\\n'},\n",
       "      {'content': '\\tprivate NinePatch getNinePatch(InputStream in) throws IOException {\\n'},\n",
       "      {'content': '\\t\\tExtDataInput di = new ExtDataInput(in);\\n'},\n",
       "      {'content': '\\t\\tif (!find9patchChunk(di)) {\\n'},\n",
       "      {'content': '\\t\\t\\treturn null;\\n'},\n",
       "      {'content': '\\t\\t}\\n'},\n",
       "      {'content': '\\t\\tfind9patchChunk(di);\\n'},\n",
       "      {'content': '\\t\\treturn NinePatch.decode(di);\\n'},\n",
       "      {'content': '\\t}\\n'},\n",
       "      {'content': '\\n'},\n",
       "      {'content': '\\tprivate boolean find9patchChunk(DataInput di) throws IOException {\\n'},\n",
       "      {'content': '\\tprivate void find9patchChunk(DataInput di) throws IOException {\\n'},\n",
       "      {'content': '\\t\\tdi.skipBytes(8);\\n'},\n",
       "      {'content': '\\t\\twhile (true) {\\n'},\n",
       "      {'content': '\\t\\t\\tint size;\\n'},\n",
       "      {'content': '\\t\\t\\ttry {\\n'},\n",
       "      {'content': '\\t\\t\\t\\tsize = di.readInt();\\n'},\n",
       "      {'content': '\\t\\t\\t} catch (IOException ex) {\\n'},\n",
       "      {'content': '\\t\\t\\t\\treturn false;\\n'},\n",
       "      {'content': '\\t\\t\\t\\tthrow new JadxRuntimeException(\"Cant find nine patch chunk\", ex);\\n'},\n",
       "      {'content': '\\t\\t\\t}\\n'},\n",
       "      {'content': '\\t\\t\\tif (di.readInt() == NP_CHUNK_TYPE) {\\n'},\n",
       "      {'content': '\\t\\t\\t\\treturn true;\\n'},\n",
       "      {'content': '\\t\\t\\t\\treturn;\\n'},\n",
       "      {'content': '\\t\\t\\t}\\n'},\n",
       "      {'content': '\\t\\t\\tdi.skipBytes(size + 4);\\n'},\n",
       "      {'content': '\\t\\t}\\n'}]}]},\n",
       "  {'from': 'jadx-gui/src/main/java/jadx/gui/utils/search/ResourceIndex.java',\n",
       "   'to': 'jadx-gui/src/main/java/jadx/gui/utils/search/ResourceIndex.java',\n",
       "   'status': 'M',\n",
       "   'hunks': [{'lines': [{'content': '\\t\\t\\t\\t\\tresNodes.add(resNode);\\n'},\n",
       "      {'content': '\\t\\t\\t\\t}\\n'},\n",
       "      {'content': '\\t\\t\\t} else {\\n'},\n",
       "      {'content': '\\t\\t\\t\\tLOG.debug(\"Resource index skipped because of size limit: {} res size {} bytes\", resNode, size);\\n'},\n",
       "      {'content': '\\t\\t\\t\\tLOG.debug(\"Resource skipped because of size limit: {} res size {} bytes\", resNode, size);\\n'},\n",
       "      {'content': '\\t\\t\\t}\\n'},\n",
       "      {'content': '\\t\\t}\\n'},\n",
       "      {'content': '\\t}\\n'}]}]}]}"
      ]
     },
     "execution_count": 8,
     "metadata": {},
     "output_type": "execute_result"
    }
   ],
   "source": [
    "ext = CommitProcessor(\"../jadx\")\n",
    "ext.add_commit(\"a27ba3ff4be70a1d46e9065151ef36850686dc39\")\n",
    "ext.commits[0]"
   ]
  },
  {
   "cell_type": "code",
   "execution_count": null,
   "metadata": {},
   "outputs": [],
   "source": []
  },
  {
   "cell_type": "code",
   "execution_count": 129,
   "metadata": {},
   "outputs": [
    {
     "name": "stdout",
     "output_type": "stream",
     "text": [
      "dif between a72523c7dff91a9bfe6066e72f18cc540bff9099 and 46eeb0bc22a71d96f8fc18d48061f28fe2766c30\n",
      "b\"diff --git a/README.md b/README.md\\nindex c1a164d..030bae1 100644\\n--- a/README.md\\n+++ b/README.md\\n@@ -11,8 +11,6 @@\\n \\n Command line and GUI tools for producing Java source code from Android Dex and Apk files\\n \\n-:exclamation: :exclamation: :exclamation: Please note that in most cases Jadx can't decompile all 100% of the code, so errors will occur. Check [Troubleshooting guide](https://github.com/skylot/jadx/wiki/Troubleshooting-Q&A#decompilation-issues) for workarounds\\n-\\n **Main features:**\\n - decompile Dalvik bytecode to java classes from APK, dex, aar, aab and zip files\\n - decode `AndroidManifest.xml` and other resources from `resources.arsc`\\n\"\n"
     ]
    }
   ],
   "source": [
    "walk = repo.walk(repo.head.target, GIT_SORT_TOPOLOGICAL)\n",
    "for commit in itertools.islice(walk, 1):\n",
    "    for parent in commit.parents:\n",
    "        diff = repo.diff(commit.tree_id, parent.tree_id, context_lines=3)\n",
    "        print(f\"dif between {commit.id} and {parent.id}\")\n",
    "        for patch in diff:\n",
    "            print(patch.data)"
   ]
  },
  {
   "cell_type": "code",
   "execution_count": 133,
   "metadata": {},
   "outputs": [],
   "source": [
    "walk = repo.walk(repo.head.target, GIT_SORT_TOPOLOGICAL)\n",
    "commit = next(walk)\n",
    "parent = commit.parents[0]\n",
    "commit, parent\n",
    "diff = repo.diff(commit, parent)\n",
    "patches = list(diff)\n",
    "deltas = list(diff.deltas)\n",
    "patch = patches[0]\n",
    "delta = deltas[0]\n",
    "hunk = patch.hunks[0]"
   ]
  },
  {
   "cell_type": "code",
   "execution_count": 135,
   "metadata": {},
   "outputs": [
    {
     "name": "stdout",
     "output_type": "stream",
     "text": [
      "visiting commit <pygit2.Object{commit:a72523c7dff91a9bfe6066e72f18cc540bff9099}> by skylot \n"
     ]
    },
    {
     "data": {
      "text/plain": [
       "{a72523c7dff91a9bfe6066e72f18cc540bff9099: {'author': '118523+skylot@users.noreply.github.com',\n",
       "  'committer': 'skylot@gmail.com',\n",
       "  'message': 'docs: add link to decompilation troubleshooting\\n',\n",
       "  'id': a72523c7dff91a9bfe6066e72f18cc540bff9099,\n",
       "  'patches': [{'from': 'README.md',\n",
       "    'to': 'README.md',\n",
       "    'status': 'M',\n",
       "    'hunks': [{'lines': [{'content': '\\n'},\n",
       "       {'content': 'Command line and GUI tools for producing Java source code from Android Dex and Apk files\\n'},\n",
       "       {'content': '\\n'},\n",
       "       {'content': \":exclamation: :exclamation: :exclamation: Please note that in most cases Jadx can't decompile all 100% of the code, so errors will occur. Check [Troubleshooting guide](https://github.com/skylot/jadx/wiki/Troubleshooting-Q&A#decompilation-issues) for workarounds\\n\"},\n",
       "       {'content': '\\n'},\n",
       "       {'content': '**Main features:**\\n'},\n",
       "       {'content': '- decompile Dalvik bytecode to java classes from APK, dex, aar, aab and zip files\\n'},\n",
       "       {'content': '- decode `AndroidManifest.xml` and other resources from `resources.arsc`\\n'}]}]}]}}"
      ]
     },
     "execution_count": 135,
     "metadata": {},
     "output_type": "execute_result"
    }
   ],
   "source": [
    "\n",
    "commits = {}\n",
    "\n",
    "def visit_commit(commit):\n",
    "    print(f\"visiting commit {commit} by {commit.author.name} \")\n",
    "    visit = {\n",
    "        \"author\": commit.author.email,\n",
    "        \"committer\": commit.committer.email,\n",
    "        \"message\": commit.message,\n",
    "        \"id\": commit.id\n",
    "    }\n",
    "    for parent in commit.parents:\n",
    "        diff = repo.diff(commit, parent)\n",
    "        visit[\"patches\"] = []\n",
    "        for patch in diff:\n",
    "            delta = patch.delta\n",
    "            patch_object = {\n",
    "                \"from\": delta.old_file.path, \"to\": delta.new_file.path,\n",
    "                \"status\": delta.status_char(),\n",
    "                \"hunks\": []\n",
    "            }\n",
    "            for hunk in patch.hunks:\n",
    "                hunk_object = { \"lines\": []}\n",
    "                for line in hunk.lines:\n",
    "                    hunk_object[\"lines\"].append({\n",
    "                        \"content\": line.content\n",
    "                    })\n",
    "                patch_object[\"hunks\"].append(hunk_object)\n",
    "            visit[\"patches\"].append(patch_object)\n",
    "\n",
    "    commits[visit[\"id\"]] = visit\n",
    "\n",
    "\n",
    "visit_commit(commit)\n",
    "commits"
   ]
  }
 ],
 "metadata": {
  "interpreter": {
   "hash": "fa7743f1b92792854d8931269cd3ec1f56e353911571fe1f6a53730f8e1692e0"
  },
  "kernelspec": {
   "display_name": "Python 3.10.0 64-bit ('venv': venv)",
   "language": "python",
   "name": "python3"
  },
  "language_info": {
   "codemirror_mode": {
    "name": "ipython",
    "version": 3
   },
   "file_extension": ".py",
   "mimetype": "text/x-python",
   "name": "python",
   "nbconvert_exporter": "python",
   "pygments_lexer": "ipython3",
   "version": "3.10.0"
  },
  "orig_nbformat": 4
 },
 "nbformat": 4,
 "nbformat_minor": 2
}
