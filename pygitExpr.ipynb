{
 "cells": [
  {
   "cell_type": "code",
   "execution_count": 3,
   "metadata": {},
   "outputs": [
    {
     "name": "stdout",
     "output_type": "stream",
     "text": [
      "The autoreload extension is already loaded. To reload it, use:\n",
      "  %reload_ext autoreload\n"
     ]
    }
   ],
   "source": [
    "%load_ext autoreload\n",
    "%autoreload 2\n",
    "from git_analysis import CommitProcessor\n",
    "import pygit2\n",
    "import itertools\n",
    "from pygit2 import GIT_SORT_TOPOLOGICAL, GIT_SORT_REVERSE\n",
    "repo = pygit2.Repository(\"../jadx\")\n"
   ]
  },
  {
   "cell_type": "code",
   "execution_count": 49,
   "metadata": {},
   "outputs": [
    {
     "name": "stdout",
     "output_type": "stream",
     "text": [
      "old_lines 3 new_lines 2\n",
      "-     void fooFunc() {\n",
      "-         System.out.println(\"fooFunc\");\n",
      "-         System.out.println(\"fooFunc2\");\n",
      "+     void barFunc() {\n",
      "+         System.out.println(\"barFunc\");\n"
     ]
    },
    {
     "data": {
      "text/plain": [
       "{'author': 'nmdanny@gmail.com',\n",
       " 'committer': 'nmdanny@gmail.com',\n",
       " 'message': 'replace fooFunc with barFunc\\n',\n",
       " 'id': 786a4ce83e5652f37cbc0b5f7bd567e4968f5b58,\n",
       " 'patches': [{'from': 'src/modA/foo.java',\n",
       "   'to': 'src/modA/foo.java',\n",
       "   'status': 'M',\n",
       "   'parent_commit': 6727b9ecd3cabf26d97a528afb284afcc4dccf12,\n",
       "   'parent_commit_message': 'modify fooFunc\\n',\n",
       "   'changes': [JavaChange(changed_hierarchy=JavaHierarchy(package=\"b'modA'\", className=None, methodName=None), change_type=<ChangeType.MODIFY: 1>)]}]}"
      ]
     },
     "execution_count": 49,
     "metadata": {},
     "output_type": "execute_result"
    }
   ],
   "source": [
    "ext = CommitProcessor(\"../testRepo\")\n",
    "# add\n",
    "# ext.add_commit(\"26079d0b489702349a4cd71d5e960e502bf347a5\")\n",
    "\n",
    "# modify\n",
    "# ext.add_commit(\"6727b9ecd3cabf26d97a528afb284afcc4dccf12\")\n",
    "\n",
    "# rename/delete and add\n",
    "ext.add_commit(\"786a4ce83e5652f37cbc0b5f7bd567e4968f5b58\")\n",
    "\n",
    "ext.commits[0]"
   ]
  },
  {
   "cell_type": "code",
   "execution_count": null,
   "metadata": {},
   "outputs": [],
   "source": []
  },
  {
   "cell_type": "code",
   "execution_count": 129,
   "metadata": {},
   "outputs": [
    {
     "name": "stdout",
     "output_type": "stream",
     "text": [
      "dif between a72523c7dff91a9bfe6066e72f18cc540bff9099 and 46eeb0bc22a71d96f8fc18d48061f28fe2766c30\n",
      "b\"diff --git a/README.md b/README.md\\nindex c1a164d..030bae1 100644\\n--- a/README.md\\n+++ b/README.md\\n@@ -11,8 +11,6 @@\\n \\n Command line and GUI tools for producing Java source code from Android Dex and Apk files\\n \\n-:exclamation: :exclamation: :exclamation: Please note that in most cases Jadx can't decompile all 100% of the code, so errors will occur. Check [Troubleshooting guide](https://github.com/skylot/jadx/wiki/Troubleshooting-Q&A#decompilation-issues) for workarounds\\n-\\n **Main features:**\\n - decompile Dalvik bytecode to java classes from APK, dex, aar, aab and zip files\\n - decode `AndroidManifest.xml` and other resources from `resources.arsc`\\n\"\n"
     ]
    }
   ],
   "source": [
    "walk = repo.walk(repo.head.target, GIT_SORT_TOPOLOGICAL)\n",
    "for commit in itertools.islice(walk, 1):\n",
    "    for parent in commit.parents:\n",
    "        diff = repo.diff(commit.tree_id, parent.tree_id, context_lines=3)\n",
    "        print(f\"dif between {commit.id} and {parent.id}\")\n",
    "        for patch in diff:\n",
    "            print(patch.data)"
   ]
  },
  {
   "cell_type": "code",
   "execution_count": 133,
   "metadata": {},
   "outputs": [],
   "source": [
    "walk = repo.walk(repo.head.target, GIT_SORT_TOPOLOGICAL)\n",
    "commit = next(walk)\n",
    "parent = commit.parents[0]\n",
    "commit, parent\n",
    "diff = repo.diff(commit, parent)\n",
    "patches = list(diff)\n",
    "deltas = list(diff.deltas)\n",
    "patch = patches[0]\n",
    "delta = deltas[0]\n",
    "hunk = patch.hunks[0]"
   ]
  },
  {
   "cell_type": "code",
   "execution_count": 135,
   "metadata": {},
   "outputs": [
    {
     "name": "stdout",
     "output_type": "stream",
     "text": [
      "visiting commit <pygit2.Object{commit:a72523c7dff91a9bfe6066e72f18cc540bff9099}> by skylot \n"
     ]
    },
    {
     "data": {
      "text/plain": [
       "{a72523c7dff91a9bfe6066e72f18cc540bff9099: {'author': '118523+skylot@users.noreply.github.com',\n",
       "  'committer': 'skylot@gmail.com',\n",
       "  'message': 'docs: add link to decompilation troubleshooting\\n',\n",
       "  'id': a72523c7dff91a9bfe6066e72f18cc540bff9099,\n",
       "  'patches': [{'from': 'README.md',\n",
       "    'to': 'README.md',\n",
       "    'status': 'M',\n",
       "    'hunks': [{'lines': [{'content': '\\n'},\n",
       "       {'content': 'Command line and GUI tools for producing Java source code from Android Dex and Apk files\\n'},\n",
       "       {'content': '\\n'},\n",
       "       {'content': \":exclamation: :exclamation: :exclamation: Please note that in most cases Jadx can't decompile all 100% of the code, so errors will occur. Check [Troubleshooting guide](https://github.com/skylot/jadx/wiki/Troubleshooting-Q&A#decompilation-issues) for workarounds\\n\"},\n",
       "       {'content': '\\n'},\n",
       "       {'content': '**Main features:**\\n'},\n",
       "       {'content': '- decompile Dalvik bytecode to java classes from APK, dex, aar, aab and zip files\\n'},\n",
       "       {'content': '- decode `AndroidManifest.xml` and other resources from `resources.arsc`\\n'}]}]}]}}"
      ]
     },
     "execution_count": 135,
     "metadata": {},
     "output_type": "execute_result"
    }
   ],
   "source": [
    "\n",
    "commits = {}\n",
    "\n",
    "def visit_commit(commit):\n",
    "    print(f\"visiting commit {commit} by {commit.author.name} \")\n",
    "    visit = {\n",
    "        \"author\": commit.author.email,\n",
    "        \"committer\": commit.committer.email,\n",
    "        \"message\": commit.message,\n",
    "        \"id\": commit.id\n",
    "    }\n",
    "    for parent in commit.parents:\n",
    "        diff = repo.diff(commit, parent)\n",
    "        visit[\"patches\"] = []\n",
    "        for patch in diff:\n",
    "            delta = patch.delta\n",
    "            patch_object = {\n",
    "                \"from\": delta.old_file.path, \"to\": delta.new_file.path,\n",
    "                \"status\": delta.status_char(),\n",
    "                \"hunks\": []\n",
    "            }\n",
    "            for hunk in patch.hunks:\n",
    "                hunk_object = { \"lines\": []}\n",
    "                for line in hunk.lines:\n",
    "                    hunk_object[\"lines\"].append({\n",
    "                        \"content\": line.content\n",
    "                    })\n",
    "                patch_object[\"hunks\"].append(hunk_object)\n",
    "            visit[\"patches\"].append(patch_object)\n",
    "\n",
    "    commits[visit[\"id\"]] = visit\n",
    "\n",
    "\n",
    "visit_commit(commit)\n",
    "commits"
   ]
  }
 ],
 "metadata": {
  "interpreter": {
   "hash": "fa7743f1b92792854d8931269cd3ec1f56e353911571fe1f6a53730f8e1692e0"
  },
  "kernelspec": {
   "display_name": "Python 3.10.0 64-bit ('venv': venv)",
   "language": "python",
   "name": "python3"
  },
  "language_info": {
   "codemirror_mode": {
    "name": "ipython",
    "version": 3
   },
   "file_extension": ".py",
   "mimetype": "text/x-python",
   "name": "python",
   "nbconvert_exporter": "python",
   "pygments_lexer": "ipython3",
   "version": "3.10.0"
  },
  "orig_nbformat": 4
 },
 "nbformat": 4,
 "nbformat_minor": 2
}
