{
 "cells": [
  {
   "cell_type": "code",
   "execution_count": 153,
   "metadata": {},
   "outputs": [
    {
     "name": "stdout",
     "output_type": "stream",
     "text": [
      "The autoreload extension is already loaded. To reload it, use:\n",
      "  %reload_ext autoreload\n"
     ]
    }
   ],
   "source": [
    "%load_ext autoreload\n",
    "%autoreload 2\n",
    "\n",
    "from git_analysis import GitProcessor, convert_to_item_basket_onehot, HierarchyType\n",
    "import networkx as nx\n",
    "import pandas as pd\n",
    "import pyvis\n",
    "from mlxtend.frequent_patterns import apriori, association_rules\n",
    "import matplotlib.pyplot as plt\n",
    "import logging\n",
    "\n",
    "logging.basicConfig()\n",
    "logging.getLogger(\"git_processor\").setLevel(logging.INFO)\n",
    "logging.getLogger(\"java_change_detector\").setLevel(logging.ERROR)\n",
    "logging.getLogger(\"assoc_mining\").setLevel(logging.INFO)\n",
    "\n",
    "# GIT_URL = \"https://github.com/skylot/jadx\"\n",
    "GIT_URL = \"https://github.com/spring-projects/spring-boot\""
   ]
  },
  {
   "cell_type": "code",
   "execution_count": 154,
   "metadata": {},
   "outputs": [
    {
     "name": "stderr",
     "output_type": "stream",
     "text": [
      "INFO:git_processor:Using pre-existing git repository at C:\\dev\\gitAnalysis\\GIT_REPOS\\spring-boot\n",
      "INFO:git_processor:Using pre-existing cache at C:\\dev\\gitAnalysis\\GIT_REPOS_SHELVE\\spring-boot\n",
      "INFO:git_processor:Processing git repository located at C:\\dev\\gitAnalysis\\GIT_REPOS\\spring-boot\n",
      "INFO:git_processor:Fetching PRs from Github API\n",
      "INFO:git_processor:Fetching PRs from Github API at https://api.github.com/repos/spring-projects/spring-boot/pulls, so far fetched 0 PRs\n",
      "INFO:git_processor:Fetching PRs from Github API at https://api.github.com/repositories/6296790/pulls?state=all&per_page=100&page=2, so far fetched 100 PRs\n",
      "INFO:git_processor:Fetching PRs from Github API at https://api.github.com/repositories/6296790/pulls?state=all&per_page=100&page=3, so far fetched 200 PRs\n",
      "INFO:git_processor:Fetching PRs from Github API at https://api.github.com/repositories/6296790/pulls?state=all&per_page=100&page=4, so far fetched 300 PRs\n"
     ]
    },
    {
     "ename": "KeyboardInterrupt",
     "evalue": "",
     "output_type": "error",
     "traceback": [
      "\u001b[1;31m---------------------------------------------------------------------------\u001b[0m",
      "\u001b[1;31mKeyboardInterrupt\u001b[0m                         Traceback (most recent call last)",
      "\u001b[1;32m~\\AppData\\Local\\Temp\\ipykernel_20228\\3392263804.py\u001b[0m in \u001b[0;36m<module>\u001b[1;34m\u001b[0m\n\u001b[0;32m      1\u001b[0m \u001b[1;32mwith\u001b[0m \u001b[0mGitProcessor\u001b[0m\u001b[1;33m(\u001b[0m\u001b[0mGIT_URL\u001b[0m\u001b[1;33m)\u001b[0m \u001b[1;32mas\u001b[0m \u001b[0mgit\u001b[0m\u001b[1;33m:\u001b[0m\u001b[1;33m\u001b[0m\u001b[1;33m\u001b[0m\u001b[0m\n\u001b[1;32m----> 2\u001b[1;33m     \u001b[0mprs\u001b[0m \u001b[1;33m=\u001b[0m \u001b[0mgit\u001b[0m\u001b[1;33m.\u001b[0m\u001b[0mget_processed_prs\u001b[0m\u001b[1;33m(\u001b[0m\u001b[1;33m)\u001b[0m\u001b[1;33m\u001b[0m\u001b[1;33m\u001b[0m\u001b[0m\n\u001b[0m\u001b[0;32m      3\u001b[0m     \u001b[0mcommits\u001b[0m\u001b[1;33m,\u001b[0m \u001b[0m_\u001b[0m \u001b[1;33m=\u001b[0m \u001b[0mgit\u001b[0m\u001b[1;33m.\u001b[0m\u001b[0mget_processed_commits\u001b[0m\u001b[1;33m(\u001b[0m\u001b[1;33m)\u001b[0m\u001b[1;33m\u001b[0m\u001b[1;33m\u001b[0m\u001b[0m\n\u001b[0;32m      4\u001b[0m \u001b[1;33m\u001b[0m\u001b[0m\n\u001b[0;32m      5\u001b[0m     \u001b[0mpr_method_df\u001b[0m \u001b[1;33m=\u001b[0m \u001b[0mconvert_to_item_basket_onehot\u001b[0m\u001b[1;33m(\u001b[0m\u001b[0mprs\u001b[0m\u001b[1;33m,\u001b[0m \u001b[0mHierarchyType\u001b[0m\u001b[1;33m.\u001b[0m\u001b[0mmethod\u001b[0m\u001b[1;33m,\u001b[0m \u001b[1;34m\"pr\"\u001b[0m\u001b[1;33m)\u001b[0m\u001b[1;33m\u001b[0m\u001b[1;33m\u001b[0m\u001b[0m\n",
      "\u001b[1;32mc:\\dev\\gitAnalysis\\git_analysis\\git_processor.py\u001b[0m in \u001b[0;36mget_processed_prs\u001b[1;34m(self, refresh)\u001b[0m\n\u001b[0;32m    104\u001b[0m         \"\"\"\n\u001b[0;32m    105\u001b[0m         \u001b[1;32mif\u001b[0m \u001b[1;34m\"processed\"\u001b[0m \u001b[1;32mnot\u001b[0m \u001b[1;32min\u001b[0m \u001b[0mself\u001b[0m\u001b[1;33m.\u001b[0m\u001b[0mshelve\u001b[0m \u001b[1;32mor\u001b[0m \u001b[0mrefresh\u001b[0m\u001b[1;33m:\u001b[0m\u001b[1;33m\u001b[0m\u001b[1;33m\u001b[0m\u001b[0m\n\u001b[1;32m--> 106\u001b[1;33m             \u001b[0mself\u001b[0m\u001b[1;33m.\u001b[0m\u001b[0m_process_all_prs\u001b[0m\u001b[1;33m(\u001b[0m\u001b[1;33m)\u001b[0m\u001b[1;33m\u001b[0m\u001b[1;33m\u001b[0m\u001b[0m\n\u001b[0m\u001b[0;32m    107\u001b[0m         \u001b[1;32mreturn\u001b[0m \u001b[0mself\u001b[0m\u001b[1;33m.\u001b[0m\u001b[0mshelve\u001b[0m\u001b[1;33m[\u001b[0m\u001b[1;34m\"processed\"\u001b[0m\u001b[1;33m]\u001b[0m\u001b[1;33m\u001b[0m\u001b[1;33m\u001b[0m\u001b[0m\n\u001b[0;32m    108\u001b[0m \u001b[1;33m\u001b[0m\u001b[0m\n",
      "\u001b[1;32mc:\\dev\\gitAnalysis\\git_analysis\\git_processor.py\u001b[0m in \u001b[0;36m_process_all_prs\u001b[1;34m(self)\u001b[0m\n\u001b[0;32m    180\u001b[0m \u001b[1;33m\u001b[0m\u001b[0m\n\u001b[0;32m    181\u001b[0m     \u001b[1;32mdef\u001b[0m \u001b[0m_process_all_prs\u001b[0m\u001b[1;33m(\u001b[0m\u001b[0mself\u001b[0m\u001b[1;33m)\u001b[0m\u001b[1;33m:\u001b[0m\u001b[1;33m\u001b[0m\u001b[1;33m\u001b[0m\u001b[0m\n\u001b[1;32m--> 182\u001b[1;33m         \u001b[0mprs\u001b[0m \u001b[1;33m=\u001b[0m \u001b[0mself\u001b[0m\u001b[1;33m.\u001b[0m\u001b[0m_get_github_prs\u001b[0m\u001b[1;33m(\u001b[0m\u001b[1;33m)\u001b[0m\u001b[1;33m\u001b[0m\u001b[1;33m\u001b[0m\u001b[0m\n\u001b[0m\u001b[0;32m    183\u001b[0m         \u001b[0mprocessed\u001b[0m\u001b[1;33m,\u001b[0m \u001b[0munprocessed\u001b[0m \u001b[1;33m=\u001b[0m \u001b[1;33m[\u001b[0m\u001b[1;33m]\u001b[0m\u001b[1;33m,\u001b[0m \u001b[1;33m[\u001b[0m\u001b[1;33m]\u001b[0m\u001b[1;33m\u001b[0m\u001b[1;33m\u001b[0m\u001b[0m\n\u001b[0;32m    184\u001b[0m         \u001b[0mskipped\u001b[0m \u001b[1;33m=\u001b[0m \u001b[1;36m0\u001b[0m\u001b[1;33m\u001b[0m\u001b[1;33m\u001b[0m\u001b[0m\n",
      "\u001b[1;32mc:\\dev\\gitAnalysis\\git_analysis\\git_processor.py\u001b[0m in \u001b[0;36m_get_github_prs\u001b[1;34m(self, refresh)\u001b[0m\n\u001b[0;32m    129\u001b[0m         \u001b[1;32mif\u001b[0m \u001b[0mprs\u001b[0m \u001b[1;32mis\u001b[0m \u001b[1;32mNone\u001b[0m \u001b[1;32mor\u001b[0m \u001b[0mrefresh\u001b[0m\u001b[1;33m:\u001b[0m\u001b[1;33m\u001b[0m\u001b[1;33m\u001b[0m\u001b[0m\n\u001b[0;32m    130\u001b[0m             \u001b[0mlog\u001b[0m\u001b[1;33m.\u001b[0m\u001b[0minfo\u001b[0m\u001b[1;33m(\u001b[0m\u001b[1;34m\"Fetching PRs from Github API\"\u001b[0m\u001b[1;33m)\u001b[0m\u001b[1;33m\u001b[0m\u001b[1;33m\u001b[0m\u001b[0m\n\u001b[1;32m--> 131\u001b[1;33m             \u001b[0mprs\u001b[0m \u001b[1;33m=\u001b[0m \u001b[0mself\u001b[0m\u001b[1;33m.\u001b[0m\u001b[0m_fetch_github_prs\u001b[0m\u001b[1;33m(\u001b[0m\u001b[1;33m)\u001b[0m\u001b[1;33m\u001b[0m\u001b[1;33m\u001b[0m\u001b[0m\n\u001b[0m\u001b[0;32m    132\u001b[0m             \u001b[0mself\u001b[0m\u001b[1;33m.\u001b[0m\u001b[0mshelve\u001b[0m\u001b[1;33m[\u001b[0m\u001b[1;34m\"prs\"\u001b[0m\u001b[1;33m]\u001b[0m \u001b[1;33m=\u001b[0m \u001b[0mprs\u001b[0m\u001b[1;33m\u001b[0m\u001b[1;33m\u001b[0m\u001b[0m\n\u001b[0;32m    133\u001b[0m         \u001b[0mlog\u001b[0m\u001b[1;33m.\u001b[0m\u001b[0minfo\u001b[0m\u001b[1;33m(\u001b[0m\u001b[1;34mf\"Got {len(prs)} pull requests\"\u001b[0m\u001b[1;33m)\u001b[0m\u001b[1;33m\u001b[0m\u001b[1;33m\u001b[0m\u001b[0m\n",
      "\u001b[1;32mc:\\dev\\gitAnalysis\\git_analysis\\git_processor.py\u001b[0m in \u001b[0;36m_fetch_github_prs\u001b[1;34m(self)\u001b[0m\n\u001b[0;32m    145\u001b[0m             \u001b[1;33m}\u001b[0m\u001b[1;33m,\u001b[0m \u001b[0mparams\u001b[0m\u001b[1;33m=\u001b[0m\u001b[1;33m{\u001b[0m\u001b[1;33m\u001b[0m\u001b[1;33m\u001b[0m\u001b[0m\n\u001b[0;32m    146\u001b[0m                 \u001b[1;34m\"state\"\u001b[0m\u001b[1;33m:\u001b[0m \u001b[1;34m\"all\"\u001b[0m\u001b[1;33m,\u001b[0m\u001b[1;33m\u001b[0m\u001b[1;33m\u001b[0m\u001b[0m\n\u001b[1;32m--> 147\u001b[1;33m                 \u001b[1;34m\"per_page\"\u001b[0m\u001b[1;33m:\u001b[0m \u001b[1;34m\"100\"\u001b[0m\u001b[1;33m\u001b[0m\u001b[1;33m\u001b[0m\u001b[0m\n\u001b[0m\u001b[0;32m    148\u001b[0m             })\n\u001b[0;32m    149\u001b[0m             \u001b[0mr\u001b[0m\u001b[1;33m.\u001b[0m\u001b[0mraise_for_status\u001b[0m\u001b[1;33m(\u001b[0m\u001b[1;33m)\u001b[0m\u001b[1;33m\u001b[0m\u001b[1;33m\u001b[0m\u001b[0m\n",
      "\u001b[1;32mc:\\dev\\gitAnalysis\\venv\\lib\\site-packages\\requests\\api.py\u001b[0m in \u001b[0;36mget\u001b[1;34m(url, params, **kwargs)\u001b[0m\n\u001b[0;32m     73\u001b[0m     \"\"\"\n\u001b[0;32m     74\u001b[0m \u001b[1;33m\u001b[0m\u001b[0m\n\u001b[1;32m---> 75\u001b[1;33m     \u001b[1;32mreturn\u001b[0m \u001b[0mrequest\u001b[0m\u001b[1;33m(\u001b[0m\u001b[1;34m'get'\u001b[0m\u001b[1;33m,\u001b[0m \u001b[0murl\u001b[0m\u001b[1;33m,\u001b[0m \u001b[0mparams\u001b[0m\u001b[1;33m=\u001b[0m\u001b[0mparams\u001b[0m\u001b[1;33m,\u001b[0m \u001b[1;33m**\u001b[0m\u001b[0mkwargs\u001b[0m\u001b[1;33m)\u001b[0m\u001b[1;33m\u001b[0m\u001b[1;33m\u001b[0m\u001b[0m\n\u001b[0m\u001b[0;32m     76\u001b[0m \u001b[1;33m\u001b[0m\u001b[0m\n\u001b[0;32m     77\u001b[0m \u001b[1;33m\u001b[0m\u001b[0m\n",
      "\u001b[1;32mc:\\dev\\gitAnalysis\\venv\\lib\\site-packages\\requests\\api.py\u001b[0m in \u001b[0;36mrequest\u001b[1;34m(method, url, **kwargs)\u001b[0m\n\u001b[0;32m     59\u001b[0m     \u001b[1;31m# cases, and look like a memory leak in others.\u001b[0m\u001b[1;33m\u001b[0m\u001b[1;33m\u001b[0m\u001b[1;33m\u001b[0m\u001b[0m\n\u001b[0;32m     60\u001b[0m     \u001b[1;32mwith\u001b[0m \u001b[0msessions\u001b[0m\u001b[1;33m.\u001b[0m\u001b[0mSession\u001b[0m\u001b[1;33m(\u001b[0m\u001b[1;33m)\u001b[0m \u001b[1;32mas\u001b[0m \u001b[0msession\u001b[0m\u001b[1;33m:\u001b[0m\u001b[1;33m\u001b[0m\u001b[1;33m\u001b[0m\u001b[0m\n\u001b[1;32m---> 61\u001b[1;33m         \u001b[1;32mreturn\u001b[0m \u001b[0msession\u001b[0m\u001b[1;33m.\u001b[0m\u001b[0mrequest\u001b[0m\u001b[1;33m(\u001b[0m\u001b[0mmethod\u001b[0m\u001b[1;33m=\u001b[0m\u001b[0mmethod\u001b[0m\u001b[1;33m,\u001b[0m \u001b[0murl\u001b[0m\u001b[1;33m=\u001b[0m\u001b[0murl\u001b[0m\u001b[1;33m,\u001b[0m \u001b[1;33m**\u001b[0m\u001b[0mkwargs\u001b[0m\u001b[1;33m)\u001b[0m\u001b[1;33m\u001b[0m\u001b[1;33m\u001b[0m\u001b[0m\n\u001b[0m\u001b[0;32m     62\u001b[0m \u001b[1;33m\u001b[0m\u001b[0m\n\u001b[0;32m     63\u001b[0m \u001b[1;33m\u001b[0m\u001b[0m\n",
      "\u001b[1;32mc:\\dev\\gitAnalysis\\venv\\lib\\site-packages\\requests\\sessions.py\u001b[0m in \u001b[0;36mrequest\u001b[1;34m(self, method, url, params, data, headers, cookies, files, auth, timeout, allow_redirects, proxies, hooks, stream, verify, cert, json)\u001b[0m\n\u001b[0;32m    527\u001b[0m         }\n\u001b[0;32m    528\u001b[0m         \u001b[0msend_kwargs\u001b[0m\u001b[1;33m.\u001b[0m\u001b[0mupdate\u001b[0m\u001b[1;33m(\u001b[0m\u001b[0msettings\u001b[0m\u001b[1;33m)\u001b[0m\u001b[1;33m\u001b[0m\u001b[1;33m\u001b[0m\u001b[0m\n\u001b[1;32m--> 529\u001b[1;33m         \u001b[0mresp\u001b[0m \u001b[1;33m=\u001b[0m \u001b[0mself\u001b[0m\u001b[1;33m.\u001b[0m\u001b[0msend\u001b[0m\u001b[1;33m(\u001b[0m\u001b[0mprep\u001b[0m\u001b[1;33m,\u001b[0m \u001b[1;33m**\u001b[0m\u001b[0msend_kwargs\u001b[0m\u001b[1;33m)\u001b[0m\u001b[1;33m\u001b[0m\u001b[1;33m\u001b[0m\u001b[0m\n\u001b[0m\u001b[0;32m    530\u001b[0m \u001b[1;33m\u001b[0m\u001b[0m\n\u001b[0;32m    531\u001b[0m         \u001b[1;32mreturn\u001b[0m \u001b[0mresp\u001b[0m\u001b[1;33m\u001b[0m\u001b[1;33m\u001b[0m\u001b[0m\n",
      "\u001b[1;32mc:\\dev\\gitAnalysis\\venv\\lib\\site-packages\\requests\\sessions.py\u001b[0m in \u001b[0;36msend\u001b[1;34m(self, request, **kwargs)\u001b[0m\n\u001b[0;32m    643\u001b[0m \u001b[1;33m\u001b[0m\u001b[0m\n\u001b[0;32m    644\u001b[0m         \u001b[1;31m# Send the request\u001b[0m\u001b[1;33m\u001b[0m\u001b[1;33m\u001b[0m\u001b[1;33m\u001b[0m\u001b[0m\n\u001b[1;32m--> 645\u001b[1;33m         \u001b[0mr\u001b[0m \u001b[1;33m=\u001b[0m \u001b[0madapter\u001b[0m\u001b[1;33m.\u001b[0m\u001b[0msend\u001b[0m\u001b[1;33m(\u001b[0m\u001b[0mrequest\u001b[0m\u001b[1;33m,\u001b[0m \u001b[1;33m**\u001b[0m\u001b[0mkwargs\u001b[0m\u001b[1;33m)\u001b[0m\u001b[1;33m\u001b[0m\u001b[1;33m\u001b[0m\u001b[0m\n\u001b[0m\u001b[0;32m    646\u001b[0m \u001b[1;33m\u001b[0m\u001b[0m\n\u001b[0;32m    647\u001b[0m         \u001b[1;31m# Total elapsed time of the request (approximately)\u001b[0m\u001b[1;33m\u001b[0m\u001b[1;33m\u001b[0m\u001b[1;33m\u001b[0m\u001b[0m\n",
      "\u001b[1;32mc:\\dev\\gitAnalysis\\venv\\lib\\site-packages\\requests\\adapters.py\u001b[0m in \u001b[0;36msend\u001b[1;34m(self, request, stream, timeout, verify, cert, proxies)\u001b[0m\n\u001b[0;32m    448\u001b[0m                     \u001b[0mdecode_content\u001b[0m\u001b[1;33m=\u001b[0m\u001b[1;32mFalse\u001b[0m\u001b[1;33m,\u001b[0m\u001b[1;33m\u001b[0m\u001b[1;33m\u001b[0m\u001b[0m\n\u001b[0;32m    449\u001b[0m                     \u001b[0mretries\u001b[0m\u001b[1;33m=\u001b[0m\u001b[0mself\u001b[0m\u001b[1;33m.\u001b[0m\u001b[0mmax_retries\u001b[0m\u001b[1;33m,\u001b[0m\u001b[1;33m\u001b[0m\u001b[1;33m\u001b[0m\u001b[0m\n\u001b[1;32m--> 450\u001b[1;33m                     \u001b[0mtimeout\u001b[0m\u001b[1;33m=\u001b[0m\u001b[0mtimeout\u001b[0m\u001b[1;33m\u001b[0m\u001b[1;33m\u001b[0m\u001b[0m\n\u001b[0m\u001b[0;32m    451\u001b[0m                 )\n\u001b[0;32m    452\u001b[0m \u001b[1;33m\u001b[0m\u001b[0m\n",
      "\u001b[1;32mc:\\dev\\gitAnalysis\\venv\\lib\\site-packages\\urllib3\\connectionpool.py\u001b[0m in \u001b[0;36murlopen\u001b[1;34m(self, method, url, body, headers, retries, redirect, assert_same_host, timeout, pool_timeout, release_conn, chunked, body_pos, **response_kw)\u001b[0m\n\u001b[0;32m    708\u001b[0m                 \u001b[0mbody\u001b[0m\u001b[1;33m=\u001b[0m\u001b[0mbody\u001b[0m\u001b[1;33m,\u001b[0m\u001b[1;33m\u001b[0m\u001b[1;33m\u001b[0m\u001b[0m\n\u001b[0;32m    709\u001b[0m                 \u001b[0mheaders\u001b[0m\u001b[1;33m=\u001b[0m\u001b[0mheaders\u001b[0m\u001b[1;33m,\u001b[0m\u001b[1;33m\u001b[0m\u001b[1;33m\u001b[0m\u001b[0m\n\u001b[1;32m--> 710\u001b[1;33m                 \u001b[0mchunked\u001b[0m\u001b[1;33m=\u001b[0m\u001b[0mchunked\u001b[0m\u001b[1;33m,\u001b[0m\u001b[1;33m\u001b[0m\u001b[1;33m\u001b[0m\u001b[0m\n\u001b[0m\u001b[0;32m    711\u001b[0m             )\n\u001b[0;32m    712\u001b[0m \u001b[1;33m\u001b[0m\u001b[0m\n",
      "\u001b[1;32mc:\\dev\\gitAnalysis\\venv\\lib\\site-packages\\urllib3\\connectionpool.py\u001b[0m in \u001b[0;36m_make_request\u001b[1;34m(self, conn, method, url, timeout, chunked, **httplib_request_kw)\u001b[0m\n\u001b[0;32m    447\u001b[0m                     \u001b[1;31m# Python 3 (including for exceptions like SystemExit).\u001b[0m\u001b[1;33m\u001b[0m\u001b[1;33m\u001b[0m\u001b[1;33m\u001b[0m\u001b[0m\n\u001b[0;32m    448\u001b[0m                     \u001b[1;31m# Otherwise it looks like a bug in the code.\u001b[0m\u001b[1;33m\u001b[0m\u001b[1;33m\u001b[0m\u001b[1;33m\u001b[0m\u001b[0m\n\u001b[1;32m--> 449\u001b[1;33m                     \u001b[0msix\u001b[0m\u001b[1;33m.\u001b[0m\u001b[0mraise_from\u001b[0m\u001b[1;33m(\u001b[0m\u001b[0me\u001b[0m\u001b[1;33m,\u001b[0m \u001b[1;32mNone\u001b[0m\u001b[1;33m)\u001b[0m\u001b[1;33m\u001b[0m\u001b[1;33m\u001b[0m\u001b[0m\n\u001b[0m\u001b[0;32m    450\u001b[0m         \u001b[1;32mexcept\u001b[0m \u001b[1;33m(\u001b[0m\u001b[0mSocketTimeout\u001b[0m\u001b[1;33m,\u001b[0m \u001b[0mBaseSSLError\u001b[0m\u001b[1;33m,\u001b[0m \u001b[0mSocketError\u001b[0m\u001b[1;33m)\u001b[0m \u001b[1;32mas\u001b[0m \u001b[0me\u001b[0m\u001b[1;33m:\u001b[0m\u001b[1;33m\u001b[0m\u001b[1;33m\u001b[0m\u001b[0m\n\u001b[0;32m    451\u001b[0m             \u001b[0mself\u001b[0m\u001b[1;33m.\u001b[0m\u001b[0m_raise_timeout\u001b[0m\u001b[1;33m(\u001b[0m\u001b[0merr\u001b[0m\u001b[1;33m=\u001b[0m\u001b[0me\u001b[0m\u001b[1;33m,\u001b[0m \u001b[0murl\u001b[0m\u001b[1;33m=\u001b[0m\u001b[0murl\u001b[0m\u001b[1;33m,\u001b[0m \u001b[0mtimeout_value\u001b[0m\u001b[1;33m=\u001b[0m\u001b[0mread_timeout\u001b[0m\u001b[1;33m)\u001b[0m\u001b[1;33m\u001b[0m\u001b[1;33m\u001b[0m\u001b[0m\n",
      "\u001b[1;32mc:\\dev\\gitAnalysis\\venv\\lib\\site-packages\\urllib3\\packages\\six.py\u001b[0m in \u001b[0;36mraise_from\u001b[1;34m(value, from_value)\u001b[0m\n",
      "\u001b[1;32mc:\\dev\\gitAnalysis\\venv\\lib\\site-packages\\urllib3\\connectionpool.py\u001b[0m in \u001b[0;36m_make_request\u001b[1;34m(self, conn, method, url, timeout, chunked, **httplib_request_kw)\u001b[0m\n\u001b[0;32m    442\u001b[0m                 \u001b[1;31m# Python 3\u001b[0m\u001b[1;33m\u001b[0m\u001b[1;33m\u001b[0m\u001b[1;33m\u001b[0m\u001b[0m\n\u001b[0;32m    443\u001b[0m                 \u001b[1;32mtry\u001b[0m\u001b[1;33m:\u001b[0m\u001b[1;33m\u001b[0m\u001b[1;33m\u001b[0m\u001b[0m\n\u001b[1;32m--> 444\u001b[1;33m                     \u001b[0mhttplib_response\u001b[0m \u001b[1;33m=\u001b[0m \u001b[0mconn\u001b[0m\u001b[1;33m.\u001b[0m\u001b[0mgetresponse\u001b[0m\u001b[1;33m(\u001b[0m\u001b[1;33m)\u001b[0m\u001b[1;33m\u001b[0m\u001b[1;33m\u001b[0m\u001b[0m\n\u001b[0m\u001b[0;32m    445\u001b[0m                 \u001b[1;32mexcept\u001b[0m \u001b[0mBaseException\u001b[0m \u001b[1;32mas\u001b[0m \u001b[0me\u001b[0m\u001b[1;33m:\u001b[0m\u001b[1;33m\u001b[0m\u001b[1;33m\u001b[0m\u001b[0m\n\u001b[0;32m    446\u001b[0m                     \u001b[1;31m# Remove the TypeError from the exception chain in\u001b[0m\u001b[1;33m\u001b[0m\u001b[1;33m\u001b[0m\u001b[1;33m\u001b[0m\u001b[0m\n",
      "\u001b[1;32m~\\scoop\\apps\\python37\\current\\lib\\http\\client.py\u001b[0m in \u001b[0;36mgetresponse\u001b[1;34m(self)\u001b[0m\n\u001b[0;32m   1367\u001b[0m         \u001b[1;32mtry\u001b[0m\u001b[1;33m:\u001b[0m\u001b[1;33m\u001b[0m\u001b[1;33m\u001b[0m\u001b[0m\n\u001b[0;32m   1368\u001b[0m             \u001b[1;32mtry\u001b[0m\u001b[1;33m:\u001b[0m\u001b[1;33m\u001b[0m\u001b[1;33m\u001b[0m\u001b[0m\n\u001b[1;32m-> 1369\u001b[1;33m                 \u001b[0mresponse\u001b[0m\u001b[1;33m.\u001b[0m\u001b[0mbegin\u001b[0m\u001b[1;33m(\u001b[0m\u001b[1;33m)\u001b[0m\u001b[1;33m\u001b[0m\u001b[1;33m\u001b[0m\u001b[0m\n\u001b[0m\u001b[0;32m   1370\u001b[0m             \u001b[1;32mexcept\u001b[0m \u001b[0mConnectionError\u001b[0m\u001b[1;33m:\u001b[0m\u001b[1;33m\u001b[0m\u001b[1;33m\u001b[0m\u001b[0m\n\u001b[0;32m   1371\u001b[0m                 \u001b[0mself\u001b[0m\u001b[1;33m.\u001b[0m\u001b[0mclose\u001b[0m\u001b[1;33m(\u001b[0m\u001b[1;33m)\u001b[0m\u001b[1;33m\u001b[0m\u001b[1;33m\u001b[0m\u001b[0m\n",
      "\u001b[1;32m~\\scoop\\apps\\python37\\current\\lib\\http\\client.py\u001b[0m in \u001b[0;36mbegin\u001b[1;34m(self)\u001b[0m\n\u001b[0;32m    308\u001b[0m         \u001b[1;31m# read until we get a non-100 response\u001b[0m\u001b[1;33m\u001b[0m\u001b[1;33m\u001b[0m\u001b[1;33m\u001b[0m\u001b[0m\n\u001b[0;32m    309\u001b[0m         \u001b[1;32mwhile\u001b[0m \u001b[1;32mTrue\u001b[0m\u001b[1;33m:\u001b[0m\u001b[1;33m\u001b[0m\u001b[1;33m\u001b[0m\u001b[0m\n\u001b[1;32m--> 310\u001b[1;33m             \u001b[0mversion\u001b[0m\u001b[1;33m,\u001b[0m \u001b[0mstatus\u001b[0m\u001b[1;33m,\u001b[0m \u001b[0mreason\u001b[0m \u001b[1;33m=\u001b[0m \u001b[0mself\u001b[0m\u001b[1;33m.\u001b[0m\u001b[0m_read_status\u001b[0m\u001b[1;33m(\u001b[0m\u001b[1;33m)\u001b[0m\u001b[1;33m\u001b[0m\u001b[1;33m\u001b[0m\u001b[0m\n\u001b[0m\u001b[0;32m    311\u001b[0m             \u001b[1;32mif\u001b[0m \u001b[0mstatus\u001b[0m \u001b[1;33m!=\u001b[0m \u001b[0mCONTINUE\u001b[0m\u001b[1;33m:\u001b[0m\u001b[1;33m\u001b[0m\u001b[1;33m\u001b[0m\u001b[0m\n\u001b[0;32m    312\u001b[0m                 \u001b[1;32mbreak\u001b[0m\u001b[1;33m\u001b[0m\u001b[1;33m\u001b[0m\u001b[0m\n",
      "\u001b[1;32m~\\scoop\\apps\\python37\\current\\lib\\http\\client.py\u001b[0m in \u001b[0;36m_read_status\u001b[1;34m(self)\u001b[0m\n\u001b[0;32m    269\u001b[0m \u001b[1;33m\u001b[0m\u001b[0m\n\u001b[0;32m    270\u001b[0m     \u001b[1;32mdef\u001b[0m \u001b[0m_read_status\u001b[0m\u001b[1;33m(\u001b[0m\u001b[0mself\u001b[0m\u001b[1;33m)\u001b[0m\u001b[1;33m:\u001b[0m\u001b[1;33m\u001b[0m\u001b[1;33m\u001b[0m\u001b[0m\n\u001b[1;32m--> 271\u001b[1;33m         \u001b[0mline\u001b[0m \u001b[1;33m=\u001b[0m \u001b[0mstr\u001b[0m\u001b[1;33m(\u001b[0m\u001b[0mself\u001b[0m\u001b[1;33m.\u001b[0m\u001b[0mfp\u001b[0m\u001b[1;33m.\u001b[0m\u001b[0mreadline\u001b[0m\u001b[1;33m(\u001b[0m\u001b[0m_MAXLINE\u001b[0m \u001b[1;33m+\u001b[0m \u001b[1;36m1\u001b[0m\u001b[1;33m)\u001b[0m\u001b[1;33m,\u001b[0m \u001b[1;34m\"iso-8859-1\"\u001b[0m\u001b[1;33m)\u001b[0m\u001b[1;33m\u001b[0m\u001b[1;33m\u001b[0m\u001b[0m\n\u001b[0m\u001b[0;32m    272\u001b[0m         \u001b[1;32mif\u001b[0m \u001b[0mlen\u001b[0m\u001b[1;33m(\u001b[0m\u001b[0mline\u001b[0m\u001b[1;33m)\u001b[0m \u001b[1;33m>\u001b[0m \u001b[0m_MAXLINE\u001b[0m\u001b[1;33m:\u001b[0m\u001b[1;33m\u001b[0m\u001b[1;33m\u001b[0m\u001b[0m\n\u001b[0;32m    273\u001b[0m             \u001b[1;32mraise\u001b[0m \u001b[0mLineTooLong\u001b[0m\u001b[1;33m(\u001b[0m\u001b[1;34m\"status line\"\u001b[0m\u001b[1;33m)\u001b[0m\u001b[1;33m\u001b[0m\u001b[1;33m\u001b[0m\u001b[0m\n",
      "\u001b[1;32m~\\scoop\\apps\\python37\\current\\lib\\socket.py\u001b[0m in \u001b[0;36mreadinto\u001b[1;34m(self, b)\u001b[0m\n\u001b[0;32m    587\u001b[0m         \u001b[1;32mwhile\u001b[0m \u001b[1;32mTrue\u001b[0m\u001b[1;33m:\u001b[0m\u001b[1;33m\u001b[0m\u001b[1;33m\u001b[0m\u001b[0m\n\u001b[0;32m    588\u001b[0m             \u001b[1;32mtry\u001b[0m\u001b[1;33m:\u001b[0m\u001b[1;33m\u001b[0m\u001b[1;33m\u001b[0m\u001b[0m\n\u001b[1;32m--> 589\u001b[1;33m                 \u001b[1;32mreturn\u001b[0m \u001b[0mself\u001b[0m\u001b[1;33m.\u001b[0m\u001b[0m_sock\u001b[0m\u001b[1;33m.\u001b[0m\u001b[0mrecv_into\u001b[0m\u001b[1;33m(\u001b[0m\u001b[0mb\u001b[0m\u001b[1;33m)\u001b[0m\u001b[1;33m\u001b[0m\u001b[1;33m\u001b[0m\u001b[0m\n\u001b[0m\u001b[0;32m    590\u001b[0m             \u001b[1;32mexcept\u001b[0m \u001b[0mtimeout\u001b[0m\u001b[1;33m:\u001b[0m\u001b[1;33m\u001b[0m\u001b[1;33m\u001b[0m\u001b[0m\n\u001b[0;32m    591\u001b[0m                 \u001b[0mself\u001b[0m\u001b[1;33m.\u001b[0m\u001b[0m_timeout_occurred\u001b[0m \u001b[1;33m=\u001b[0m \u001b[1;32mTrue\u001b[0m\u001b[1;33m\u001b[0m\u001b[1;33m\u001b[0m\u001b[0m\n",
      "\u001b[1;32m~\\scoop\\apps\\python37\\current\\lib\\ssl.py\u001b[0m in \u001b[0;36mrecv_into\u001b[1;34m(self, buffer, nbytes, flags)\u001b[0m\n\u001b[0;32m   1069\u001b[0m                   \u001b[1;34m\"non-zero flags not allowed in calls to recv_into() on %s\"\u001b[0m \u001b[1;33m%\u001b[0m\u001b[1;33m\u001b[0m\u001b[1;33m\u001b[0m\u001b[0m\n\u001b[0;32m   1070\u001b[0m                   self.__class__)\n\u001b[1;32m-> 1071\u001b[1;33m             \u001b[1;32mreturn\u001b[0m \u001b[0mself\u001b[0m\u001b[1;33m.\u001b[0m\u001b[0mread\u001b[0m\u001b[1;33m(\u001b[0m\u001b[0mnbytes\u001b[0m\u001b[1;33m,\u001b[0m \u001b[0mbuffer\u001b[0m\u001b[1;33m)\u001b[0m\u001b[1;33m\u001b[0m\u001b[1;33m\u001b[0m\u001b[0m\n\u001b[0m\u001b[0;32m   1072\u001b[0m         \u001b[1;32melse\u001b[0m\u001b[1;33m:\u001b[0m\u001b[1;33m\u001b[0m\u001b[1;33m\u001b[0m\u001b[0m\n\u001b[0;32m   1073\u001b[0m             \u001b[1;32mreturn\u001b[0m \u001b[0msuper\u001b[0m\u001b[1;33m(\u001b[0m\u001b[1;33m)\u001b[0m\u001b[1;33m.\u001b[0m\u001b[0mrecv_into\u001b[0m\u001b[1;33m(\u001b[0m\u001b[0mbuffer\u001b[0m\u001b[1;33m,\u001b[0m \u001b[0mnbytes\u001b[0m\u001b[1;33m,\u001b[0m \u001b[0mflags\u001b[0m\u001b[1;33m)\u001b[0m\u001b[1;33m\u001b[0m\u001b[1;33m\u001b[0m\u001b[0m\n",
      "\u001b[1;32m~\\scoop\\apps\\python37\\current\\lib\\ssl.py\u001b[0m in \u001b[0;36mread\u001b[1;34m(self, len, buffer)\u001b[0m\n\u001b[0;32m    927\u001b[0m         \u001b[1;32mtry\u001b[0m\u001b[1;33m:\u001b[0m\u001b[1;33m\u001b[0m\u001b[1;33m\u001b[0m\u001b[0m\n\u001b[0;32m    928\u001b[0m             \u001b[1;32mif\u001b[0m \u001b[0mbuffer\u001b[0m \u001b[1;32mis\u001b[0m \u001b[1;32mnot\u001b[0m \u001b[1;32mNone\u001b[0m\u001b[1;33m:\u001b[0m\u001b[1;33m\u001b[0m\u001b[1;33m\u001b[0m\u001b[0m\n\u001b[1;32m--> 929\u001b[1;33m                 \u001b[1;32mreturn\u001b[0m \u001b[0mself\u001b[0m\u001b[1;33m.\u001b[0m\u001b[0m_sslobj\u001b[0m\u001b[1;33m.\u001b[0m\u001b[0mread\u001b[0m\u001b[1;33m(\u001b[0m\u001b[0mlen\u001b[0m\u001b[1;33m,\u001b[0m \u001b[0mbuffer\u001b[0m\u001b[1;33m)\u001b[0m\u001b[1;33m\u001b[0m\u001b[1;33m\u001b[0m\u001b[0m\n\u001b[0m\u001b[0;32m    930\u001b[0m             \u001b[1;32melse\u001b[0m\u001b[1;33m:\u001b[0m\u001b[1;33m\u001b[0m\u001b[1;33m\u001b[0m\u001b[0m\n\u001b[0;32m    931\u001b[0m                 \u001b[1;32mreturn\u001b[0m \u001b[0mself\u001b[0m\u001b[1;33m.\u001b[0m\u001b[0m_sslobj\u001b[0m\u001b[1;33m.\u001b[0m\u001b[0mread\u001b[0m\u001b[1;33m(\u001b[0m\u001b[0mlen\u001b[0m\u001b[1;33m)\u001b[0m\u001b[1;33m\u001b[0m\u001b[1;33m\u001b[0m\u001b[0m\n",
      "\u001b[1;31mKeyboardInterrupt\u001b[0m: "
     ]
    }
   ],
   "source": [
    "with GitProcessor(GIT_URL) as git:\n",
    "    prs = git.get_processed_prs()\n",
    "    commits, _ = git.get_processed_commits()\n",
    "\n",
    "    pr_method_df = convert_to_item_basket_onehot(prs, HierarchyType.method, \"pr\")\n",
    "    pr_class_df = convert_to_item_basket_onehot(prs, HierarchyType.type_def, \"pr\")\n",
    "    pr_package_df = convert_to_item_basket_onehot(prs, HierarchyType.package, \"pr\")\n",
    "\n",
    "    commit_method_df = convert_to_item_basket_onehot(commits, HierarchyType.method, \"commit\")\n",
    "    commit_class_df = convert_to_item_basket_onehot(commits, HierarchyType.type_def, \"commit\")\n",
    "    commit_package_df = convert_to_item_basket_onehot(commits, HierarchyType.package, \"commit\")\n",
    "\n",
    "\n",
    "    dfs = {\n",
    "        (\"commit\", HierarchyType.method): { \"onehot\": commit_method_df },\n",
    "        (\"commit\", HierarchyType.type_def): { \"onehot\": commit_class_df },\n",
    "        (\"commit\", HierarchyType.package): { \"onehot\": commit_package_df },\n",
    "        # (\"pr\", HierarchyType.method): { \"onehot\": pr_method_df },\n",
    "        # (\"pr\", HierarchyType.type_def): { \"onehot\": pr_class_df },\n",
    "        # (\"pr\", HierarchyType.package): { \"onehot\": pr_package_df }\n",
    "    }"
   ]
  },
  {
   "cell_type": "code",
   "execution_count": 36,
   "metadata": {},
   "outputs": [],
   "source": [
    "# These define the models we'll use. \"min\" is min_support * numBaskets, \n",
    "# if one of the algorithms is too slow, \n",
    "dfs = {\n",
    "    (\"commit\", HierarchyType.method): {\"onehot\": commit_method_df, \"min\": 5},\n",
    "    (\"commit\", HierarchyType.type_def): {\"onehot\": commit_class_df, \"min\": 5},\n",
    "    (\"commit\", HierarchyType.package): {\"onehot\": commit_package_df, \"min\": 5},\n",
    "    (\"pr\", HierarchyType.method): {\"onehot\": pr_method_df, \"min\": 1},\n",
    "    (\"pr\", HierarchyType.type_def): {\"onehot\": pr_class_df, \"min\": 1},\n",
    "    (\"pr\", HierarchyType.package): {\"onehot\": pr_package_df, \"min\": 1}\n",
    "}\n"
   ]
  },
  {
   "cell_type": "code",
   "execution_count": 40,
   "metadata": {},
   "outputs": [
    {
     "name": "stdout",
     "output_type": "stream",
     "text": [
      "('commit', <HierarchyType.method: 3>)\n",
      "Number of baskets: 1423, number of items: 13359\n",
      "Using a min support of 0.0035, meaning that an item needs to appear in at least 5.0 out of 1423 baskets.\n",
      "Got 352961 frequent itemsets\n",
      "Got 701832 rules\n",
      "('commit', <HierarchyType.type_def: 2>)\n",
      "Number of baskets: 1452, number of items: 2888\n",
      "Using a min support of 0.0034, meaning that an item needs to appear in at least 5.0 out of 1452 baskets.\n",
      "Got 41656 frequent itemsets\n",
      "Got 81846 rules\n",
      "('commit', <HierarchyType.package: 1>)\n",
      "Number of baskets: 1455, number of items: 192\n",
      "Using a min support of 0.0034, meaning that an item needs to appear in at least 5.0 out of 1455 baskets.\n",
      "Got 2863 frequent itemsets\n",
      "Got 5466 rules\n",
      "('pr', <HierarchyType.method: 3>)\n",
      "Number of baskets: 248, number of items: 4343\n",
      "Using a min support of 0.0040, meaning that an item needs to appear in at least 1.0 out of 248 baskets.\n",
      "Got 1032071 frequent itemsets\n",
      "Got 2055456 rules\n",
      "('pr', <HierarchyType.type_def: 2>)\n",
      "Number of baskets: 254, number of items: 1072\n",
      "Using a min support of 0.0039, meaning that an item needs to appear in at least 1.0 out of 254 baskets.\n",
      "Got 108199 frequent itemsets\n",
      "Got 214254 rules\n",
      "('pr', <HierarchyType.package: 1>)\n",
      "Number of baskets: 254, number of items: 106\n",
      "Using a min support of 0.0039, meaning that an item needs to appear in at least 1.0 out of 254 baskets.\n",
      "Got 3173 frequent itemsets\n",
      "Got 6134 rules\n"
     ]
    }
   ],
   "source": [
    "def get_freq_itemsets_and_rules(item_basket_df, min_support, min_threshold=0):\n",
    "      # item_basket_df = commit_method_df\n",
    "      # min_support = 10/len(item_basket_df)\n",
    "      # min_threshold = 0\n",
    "      print(f\"Number of baskets: {len(item_basket_df)}, number of items: {len(item_basket_df.columns)}\")\n",
    "      print(f\"Using a min support of {min_support:.4f}, meaning that an item needs to appear in at least \"\n",
    "            f\"{min_support * len(item_basket_df)} out of {len(item_basket_df)} baskets.\")\n",
    "      freq_itemsets = apriori(item_basket_df, min_support=min_support, use_colnames=True, max_len=2)\n",
    "      print(f\"Got {len(freq_itemsets)} frequent itemsets\")\n",
    "      rules = association_rules(freq_itemsets, metric='confidence', min_threshold=min_threshold)\n",
    "      rules[\"weight\"] = 1 - rules[\"confidence\"]\n",
    "      rules[\"antecedents\"] = rules[\"antecedents\"].apply(lambda s: next(iter(s)))\n",
    "      rules[\"consequents\"] = rules[\"consequents\"].apply(lambda s: next(iter(s)))\n",
    "      print(f\"Got {len(rules)} rules\")\n",
    "\n",
    "      return freq_itemsets, rules\n",
    "\n",
    "for key, val in dfs.items():\n",
    "      print(key)\n",
    "      df, min_items =  val[\"onehot\"], val[\"min\"]\n",
    "      freq_itemsets, rules = get_freq_itemsets_and_rules(df, min_support=min_items/len(df))\n",
    "      val[\"freq_itemsets\"] = freq_itemsets\n",
    "      val[\"rules\"] = rules"
   ]
  },
  {
   "cell_type": "code",
   "execution_count": 60,
   "metadata": {},
   "outputs": [
    {
     "name": "stderr",
     "output_type": "stream",
     "text": [
      "INFO:git_processor:Using pre-existing git repository at C:\\dev\\gitAnalysis\\GIT_REPOS\\jadx\n",
      "INFO:git_processor:Using pre-existing cache at C:\\dev\\gitAnalysis\\GIT_REPOS_SHELVE\\jadx\n",
      "INFO:git_processor:Processing git repository located at C:\\dev\\gitAnalysis\\GIT_REPOS\\jadx\n"
     ]
    },
    {
     "name": "stdout",
     "output_type": "stream",
     "text": [
      "Calculating item-basket DFs and assoc rules from scratch\n",
      "('commit', <HierarchyType.method: 3>)\n",
      "Number of baskets: 1423, number of items: 13359\n",
      "Using a min support of 0.0035, meaning that an item needs to appear in at least 5.0 out of 1423 baskets.\n",
      "Got 352961 frequent itemsets\n",
      "Got 701832 rules\n",
      "('commit', <HierarchyType.type_def: 2>)\n",
      "Number of baskets: 1452, number of items: 2888\n",
      "Using a min support of 0.0034, meaning that an item needs to appear in at least 5.0 out of 1452 baskets.\n",
      "Got 41656 frequent itemsets\n",
      "Got 81846 rules\n",
      "('commit', <HierarchyType.package: 1>)\n",
      "Number of baskets: 1455, number of items: 192\n",
      "Using a min support of 0.0034, meaning that an item needs to appear in at least 5.0 out of 1455 baskets.\n",
      "Got 2863 frequent itemsets\n",
      "Got 5466 rules\n",
      "('pr', <HierarchyType.method: 3>)\n",
      "Number of baskets: 248, number of items: 4343\n",
      "Using a min support of 0.0040, meaning that an item needs to appear in at least 1.0 out of 248 baskets.\n",
      "Got 1032071 frequent itemsets\n",
      "Got 2055456 rules\n",
      "('pr', <HierarchyType.type_def: 2>)\n",
      "Number of baskets: 254, number of items: 1072\n",
      "Using a min support of 0.0039, meaning that an item needs to appear in at least 1.0 out of 254 baskets.\n",
      "Got 108199 frequent itemsets\n",
      "Got 214254 rules\n",
      "('pr', <HierarchyType.package: 1>)\n",
      "Number of baskets: 254, number of items: 106\n",
      "Using a min support of 0.0039, meaning that an item needs to appear in at least 1.0 out of 254 baskets.\n",
      "Got 3173 frequent itemsets\n",
      "Got 6134 rules\n",
      "Done, saved results to cache\n"
     ]
    }
   ],
   "source": [
    "def get_dfs(refresh=False):\n",
    "    with GitProcessor(GIT_URL) as git:\n",
    "        if \"dfs\" not in git.shelve or refresh:\n",
    "            print(\"Calculating item-basket DFs and assoc rules from scratch\")\n",
    "            # These define the models we'll use. \"min\" is min_support * numBaskets, \n",
    "            # if one of the algorithms is too slow, \n",
    "            dfs = {\n",
    "                (\"commit\", HierarchyType.method): {\"onehot\": commit_method_df, \"min\": 5},\n",
    "                (\"commit\", HierarchyType.type_def): {\"onehot\": commit_class_df, \"min\": 5},\n",
    "                (\"commit\", HierarchyType.package): {\"onehot\": commit_package_df, \"min\": 5},\n",
    "                (\"pr\", HierarchyType.method): {\"onehot\": pr_method_df, \"min\": 1},\n",
    "                (\"pr\", HierarchyType.type_def): {\"onehot\": pr_class_df, \"min\": 1},\n",
    "                (\"pr\", HierarchyType.package): {\"onehot\": pr_package_df, \"min\": 1}\n",
    "            }\n",
    "            for key, val in dfs.items():\n",
    "                print(key)\n",
    "                df, min_items =  val[\"onehot\"], val[\"min\"]\n",
    "                freq_itemsets, rules = get_freq_itemsets_and_rules(df, min_support=min_items/len(df))\n",
    "                val[\"freq_itemsets\"] = freq_itemsets\n",
    "                val[\"rules\"] = rules\n",
    "            git.shelve[\"dfs\"] = dfs\n",
    "            print(\"Done, saved results to cache\")\n",
    "        else:\n",
    "            print(\"Obtaining item-basket DFs and assoc rules from cache\")\n",
    "            dfs = git.shelve[\"dfs\"]\n",
    "    return dfs\n",
    "\n",
    "# change to True if you changed anything in the 'dfs' dictionary and want to re-run\n",
    "dfs = get_dfs(refresh=False)"
   ]
  },
  {
   "cell_type": "code",
   "execution_count": 58,
   "metadata": {},
   "outputs": [
    {
     "data": {
      "text/html": [
       "<div>\n",
       "<style scoped>\n",
       "    .dataframe tbody tr th:only-of-type {\n",
       "        vertical-align: middle;\n",
       "    }\n",
       "\n",
       "    .dataframe tbody tr th {\n",
       "        vertical-align: top;\n",
       "    }\n",
       "\n",
       "    .dataframe thead th {\n",
       "        text-align: right;\n",
       "    }\n",
       "</style>\n",
       "<table border=\"1\" class=\"dataframe\">\n",
       "  <thead>\n",
       "    <tr style=\"text-align: right;\">\n",
       "      <th></th>\n",
       "      <th></th>\n",
       "      <th>#baskets</th>\n",
       "      <th>#items</th>\n",
       "    </tr>\n",
       "    <tr>\n",
       "      <th>basket_type</th>\n",
       "      <th>item_type</th>\n",
       "      <th></th>\n",
       "      <th></th>\n",
       "    </tr>\n",
       "  </thead>\n",
       "  <tbody>\n",
       "    <tr>\n",
       "      <th rowspan=\"3\" valign=\"top\">commit</th>\n",
       "      <th>method</th>\n",
       "      <td>1423</td>\n",
       "      <td>13359</td>\n",
       "    </tr>\n",
       "    <tr>\n",
       "      <th>type_def</th>\n",
       "      <td>1452</td>\n",
       "      <td>2888</td>\n",
       "    </tr>\n",
       "    <tr>\n",
       "      <th>package</th>\n",
       "      <td>1455</td>\n",
       "      <td>192</td>\n",
       "    </tr>\n",
       "    <tr>\n",
       "      <th rowspan=\"3\" valign=\"top\">pr</th>\n",
       "      <th>method</th>\n",
       "      <td>248</td>\n",
       "      <td>4343</td>\n",
       "    </tr>\n",
       "    <tr>\n",
       "      <th>type_def</th>\n",
       "      <td>254</td>\n",
       "      <td>1072</td>\n",
       "    </tr>\n",
       "    <tr>\n",
       "      <th>package</th>\n",
       "      <td>254</td>\n",
       "      <td>106</td>\n",
       "    </tr>\n",
       "  </tbody>\n",
       "</table>\n",
       "</div>"
      ],
      "text/plain": [
       "                       #baskets  #items\n",
       "basket_type item_type                  \n",
       "commit      method         1423   13359\n",
       "            type_def       1452    2888\n",
       "            package        1455     192\n",
       "pr          method          248    4343\n",
       "            type_def        254    1072\n",
       "            package         254     106"
      ]
     },
     "execution_count": 58,
     "metadata": {},
     "output_type": "execute_result"
    }
   ],
   "source": [
    "recs = []\n",
    "for key, val in dfs.items():\n",
    "    commit_or_pr, hierch_type = key\n",
    "    onehot = val[\"onehot\"]\n",
    "    recs.append({\n",
    "        \"basket_type\": commit_or_pr,\n",
    "        \"item_type\": hierch_type.name,\n",
    "        \"#baskets\": len(onehot),\n",
    "        \"#items\": len(onehot.columns),\n",
    "    })\n",
    "stat_df = pd.DataFrame.from_records(recs)\n",
    "stat_df.set_index([\"basket_type\", \"item_type\"])"
   ]
  },
  {
   "cell_type": "code",
   "execution_count": 132,
   "metadata": {},
   "outputs": [
    {
     "data": {
      "image/png": "[encoded data removed]",
      "text/plain": [
       "<Figure size 720x720 with 6 Axes>"
      ]
     },
     "metadata": {
      "needs_background": "light"
     },
     "output_type": "display_data"
    }
   ],
   "source": [
    "n_baskets = 2\n",
    "n_items = 3\n",
    "\n",
    "\n",
    "fig, axes = plt.subplots(n_items, n_baskets, sharex=True, figsize=(10, 10))\n",
    "metric = \"lift\"\n",
    "for key, v in dfs.items():\n",
    "    commit_or_pr, hierch_type = key\n",
    "    \n",
    "    row = int(hierch_type) - 1\n",
    "    col = 0 if commit_or_pr == \"commit\" else 1\n",
    "\n",
    "\n",
    "    rules_df: pd.DataFrame = v[\"rules\"]\n",
    "    freq_df: pd.DataFrame = v[\"freq_itemsets\"]\n",
    "    freq_df[\"len\"] = freq_df[\"itemsets\"].apply(len)\n",
    "    # a  = rules_df.hist(\"confidence\", ax=axes[row, col])#, \"lift\", \"leverage\"])\n",
    "    a  = rules_df.hist(metric, ax=axes[row, col])#, \"lift\", \"leverage\"])\n",
    "    axes[row, col].title.set_text(f\"basket type={commit_or_pr}, item type={hierch_type.name}\")\n",
    "plt.suptitle(metric)\n",
    "plt.show()\n"
   ]
  },
  {
   "cell_type": "code",
   "execution_count": null,
   "metadata": {},
   "outputs": [],
   "source": []
  },
  {
   "cell_type": "code",
   "execution_count": 143,
   "metadata": {},
   "outputs": [
    {
     "name": "stdout",
     "output_type": "stream",
     "text": [
      "Graph has 4338 nodes and 961259 edges\n"
     ]
    },
    {
     "data": {
      "image/png": "[encoded data removed]",
      "text/plain": [
       "<Figure size 432x288 with 1 Axes>"
      ]
     },
     "metadata": {},
     "output_type": "display_data"
    }
   ],
   "source": [
    "rules = dfs[(\"pr\", HierarchyType.method)][\"rules\"]\n",
    "filtered_rules = rules[(rules[\"confidence\"] > 0.5) & (rules[\"lift\"] > 1)]\n",
    "\n",
    "graph = nx.convert_matrix.from_pandas_edgelist(filtered_rules, source=\"consequents\", target=\"antecedents\", edge_attr=\"weight\")\n",
    "print(f\"Graph has {len(graph.nodes)} nodes and {len(graph.edges)} edges\")\n",
    "# network = pyvis.network.Network(height='500px', width='500px', directed=True, notebook=True)\n",
    "# network.from_nx(graph)\n",
    "# #network.show(\"nx.html\")\n",
    "# network\n",
    "\n",
    "nx.draw(graph)"
   ]
  },
  {
   "cell_type": "code",
   "execution_count": 134,
   "metadata": {},
   "outputs": [
    {
     "data": {
      "text/plain": [
       "count    5466.000000\n",
       "mean        9.173440\n",
       "std        12.692806\n",
       "min         0.645013\n",
       "25%         3.125413\n",
       "50%         5.475806\n",
       "75%        10.497835\n",
       "max       151.562500\n",
       "Name: lift, dtype: float64"
      ]
     },
     "execution_count": 134,
     "metadata": {},
     "output_type": "execute_result"
    }
   ],
   "source": [
    "rules = dfs[(\"commit\", HierarchyType.package)][\"rules\"]\n",
    "# fris = dfs[(\"commit\", HierarchyType.method)][\"freq_itemsets\"]\n",
    "# row = rules[(rules[\"antecedents\"] == \"jadx.core.ProcessClass.process\") & (rules[\"consequents\"] == \"jadx.core.dex.visitors.ModVisitor.replaceStep\")].iloc[0]\n",
    "# fris[\"len\"] = fris[\"itemsets\"].apply(len)\n",
    "# fris[fris[\"len\"] == 2].sort_values(by=\"support\")\n",
    "(rules)[\"lift\"].describe()"
   ]
  }
 ],
 "metadata": {
  "interpreter": {
   "hash": "b08beb85a999dc244c14dbb949ad77b6cde1aba6b12954537daf387febb06a96"
  },
  "kernelspec": {
   "display_name": "Python 3.7.9 ('venv': venv)",
   "language": "python",
   "name": "python3"
  },
  "language_info": {
   "codemirror_mode": {
    "name": "ipython",
    "version": 3
   },
   "file_extension": ".py",
   "mimetype": "text/x-python",
   "name": "python",
   "nbconvert_exporter": "python",
   "pygments_lexer": "ipython3",
   "version": "3.7.9"
  },
  "orig_nbformat": 4
 },
 "nbformat": 4,
 "nbformat_minor": 2
}
