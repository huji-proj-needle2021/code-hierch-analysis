{
 "cells": [
  {
   "cell_type": "code",
   "execution_count": 74,
   "metadata": {},
   "outputs": [
    {
     "name": "stderr",
     "output_type": "stream",
     "text": [
      "set key 'viz.graph_import.fetch_graph_memver' -> [Errno 2] No such file or directory: 'C:\\\\dev\\\\gitAnalysis\\\\CACHE\\\\tmphn9g_x5h.__wz_cache'\n"
     ]
    },
    {
     "name": "stdout",
     "output_type": "stream",
     "text": [
      "The autoreload extension is already loaded. To reload it, use:\n",
      "  %reload_ext autoreload\n",
      "Fetching graph from c:\\dev\\gitAnalysis\\GRAPHS\\jadx with args ConversionArgs(hierch=<HierarchyType.method: 3>, damping_factor=0.85, resolution=1.0, community_iters=50)\n"
     ]
    },
    {
     "name": "stderr",
     "output_type": "stream",
     "text": [
      "set key 'kYOUi/vbQkeylQvz9EZtJv' -> [Errno 2] No such file or directory: 'C:\\\\dev\\\\gitAnalysis\\\\CACHE\\\\tmpr2hrxlcd.__wz_cache'\n"
     ]
    },
    {
     "name": "stdout",
     "output_type": "stream",
     "text": [
      "Fetched graph and clustering successfully\n"
     ]
    }
   ],
   "source": [
    "%load_ext autoreload\n",
    "%autoreload 2\n",
    "from viz.graph import GraphState, ConversionArgs, GRAPH_DIR\n",
    "from viz.graph_import import fetch_graph\n",
    "from git_analysis.java_type import HierarchyType\n",
    "args = ConversionArgs(\n",
    "    hierch=HierarchyType.method\n",
    ")\n",
    "state = fetch_graph(GRAPH_DIR / \"jadx\", args)"
   ]
  },
  {
   "cell_type": "code",
   "execution_count": 120,
   "metadata": {},
   "outputs": [
    {
     "data": {
      "text/plain": [
       "[43, 45, 10, 22, 58]"
      ]
     },
     "execution_count": 120,
     "metadata": {},
     "output_type": "execute_result"
    }
   ],
   "source": [
    "df = state.vertices_by_communities_prs\n",
    "take = 100\n",
    "n_communities = len(state.clustering)\n",
    "\n",
    "take_per_comm = take // n_communities\n",
    "take_remainder = take % n_communities\n",
    "\n",
    "node_ix = []\n",
    "node_ix.extend(df.loc[0].iloc[:take_per_comm + take_remainder].index)\n",
    "for i in range(1, n_communities):\n",
    "    node_ix.extend(df.loc[i].iloc[:take_per_comm].index)\n",
    "\n",
    "node_ix[:5]"
   ]
  },
  {
   "cell_type": "code",
   "execution_count": 147,
   "metadata": {},
   "outputs": [
    {
     "data": {
      "text/plain": [
       "'jadx.gui.JadxGUI.main'"
      ]
     },
     "execution_count": 147,
     "metadata": {},
     "output_type": "execute_result"
    }
   ],
   "source": [
    "# df.loc[0].iloc[:5][\"name\"]\n",
    "# state.graph.vs.select([\"jadx.gui.utils.FontUtils.<clinit>\"])\n",
    "g = state.graph\n",
    "e = next(iter(g.es))\n",
    "e.source_vertex[\"name\"]\n",
    "e.tar"
   ]
  }
 ],
 "metadata": {
  "interpreter": {
   "hash": "b08beb85a999dc244c14dbb949ad77b6cde1aba6b12954537daf387febb06a96"
  },
  "kernelspec": {
   "display_name": "Python 3.7.9 ('venv': venv)",
   "language": "python",
   "name": "python3"
  },
  "language_info": {
   "codemirror_mode": {
    "name": "ipython",
    "version": 3
   },
   "file_extension": ".py",
   "mimetype": "text/x-python",
   "name": "python",
   "nbconvert_exporter": "python",
   "pygments_lexer": "ipython3",
   "version": "3.7.9"
  },
  "orig_nbformat": 4
 },
 "nbformat": 4,
 "nbformat_minor": 2
}
