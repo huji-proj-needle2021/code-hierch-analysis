{
 "cells": [
  {
   "cell_type": "code",
   "execution_count": 136,
   "metadata": {},
   "outputs": [
    {
     "name": "stderr",
     "output_type": "stream",
     "text": [
      "INFO:git_processor:Using pre-existing git repository at C:\\dev\\gitAnalysis\\GIT_REPOS\\jadx\n",
      "INFO:git_processor:Using pre-existing cache at C:\\dev\\gitAnalysis\\GIT_REPOS_SHELVE\\jadx\n",
      "INFO:git_processor:Processing git repository located at C:\\dev\\gitAnalysis\\GIT_REPOS\\jadx\n"
     ]
    },
    {
     "name": "stdout",
     "output_type": "stream",
     "text": [
      "The autoreload extension is already loaded. To reload it, use:\n",
      "  %reload_ext autoreload\n"
     ]
    }
   ],
   "source": [
    "%load_ext autoreload\n",
    "%autoreload 2\n",
    "import pandas as pd\n",
    "from git_analysis import AssocAnalyzer, ModelParams, HierarchyType\n",
    "from gen_callgraph_wrapper import GRAPH_DIR\n",
    "from graph import raw_graph_to_igraph, get_subgraph_by_pr_cyto\n",
    "import logging\n",
    "logging.basicConfig()\n",
    "logging.getLogger(\"git_processor\").setLevel(logging.INFO)\n",
    "logging.getLogger(\"java_change_detector\").setLevel(logging.ERROR)\n",
    "logging.getLogger(\"assoc_mining\").setLevel(logging.INFO)\n",
    "ana = AssocAnalyzer(\"https://github.com/skylot/jadx\")"
   ]
  },
  {
   "cell_type": "code",
   "execution_count": 118,
   "metadata": {},
   "outputs": [
    {
     "name": "stderr",
     "output_type": "stream",
     "text": [
      "INFO:assoc_mining:item type: method, basket type: commit, #baskets: 1423, #items: 13359\n"
     ]
    },
    {
     "name": "stdout",
     "output_type": "stream",
     "text": [
      "Processing 1487180 combinations | Sampling itemset size 2\n"
     ]
    }
   ],
   "source": [
    "model = ana.analyze_model(ModelParams(\n",
    "    \"commit\", HierarchyType.method, min_support=0.005, min_confidence=0\n",
    "))\n",
    "\n",
    "g = ana.create_graph(model)\n",
    "model.params, model.describe()\n",
    "g.to_folder(GRAPH_DIR / f\"jadx-git-{g.hash}\")"
   ]
  },
  {
   "cell_type": "code",
   "execution_count": 148,
   "metadata": {},
   "outputs": [
    {
     "name": "stdout",
     "output_type": "stream",
     "text": [
      "converting raw to igraph HierarchyType.method\n"
     ]
    }
   ],
   "source": [
    "ig = raw_graph_to_igraph(g, HierarchyType.method)"
   ]
  },
  {
   "cell_type": "code",
   "execution_count": 147,
   "metadata": {},
   "outputs": [
    {
     "data": {
      "text/plain": [
       "{'data': {'antecedent support': 0.011946591707659873,\n",
       "  'consequent support': 0.009135628952916374,\n",
       "  'support': 0.008432888264230498,\n",
       "  'confidence': 0.7058823529411764,\n",
       "  'lift': 77.26696832579185,\n",
       "  'leverage': 0.00832374863513733,\n",
       "  'conviction': 3.3689388615600833,\n",
       "  'weight': 0.7058823529411764,\n",
       "  'source': 'jadx.core.dex.visitors.blocksmaker.BlockFinallyExtract.sameInsns',\n",
       "  'target': 'jadx.core.dex.instructions.args.SSAVar.getTypeInfo'}}"
      ]
     },
     "execution_count": 147,
     "metadata": {},
     "output_type": "execute_result"
    }
   ],
   "source": [
    "sub = get_subgraph_by_pr_cyto(ig, 50, 10000)\n",
    "sub[-5]"
   ]
  }
 ],
 "metadata": {
  "interpreter": {
   "hash": "b08beb85a999dc244c14dbb949ad77b6cde1aba6b12954537daf387febb06a96"
  },
  "kernelspec": {
   "display_name": "Python 3.7.9 ('venv': venv)",
   "language": "python",
   "name": "python3"
  },
  "language_info": {
   "codemirror_mode": {
    "name": "ipython",
    "version": 3
   },
   "file_extension": ".py",
   "mimetype": "text/x-python",
   "name": "python",
   "nbconvert_exporter": "python",
   "pygments_lexer": "ipython3",
   "version": "3.7.9"
  },
  "orig_nbformat": 4
 },
 "nbformat": 4,
 "nbformat_minor": 2
}
